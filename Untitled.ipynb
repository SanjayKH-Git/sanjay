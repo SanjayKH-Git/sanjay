{
 "cells": [
  {
   "cell_type": "code",
   "execution_count": 106,
   "metadata": {},
   "outputs": [
    {
     "name": "stdout",
     "output_type": "stream",
     "text": [
      "Enter Array size:\n",
      "rows= 4\n",
      "cols= 3\n",
      "arr[0][0]= 15\n",
      "arr[0][1]= 85\n",
      "arr[0][2]= 66\n",
      "arr[1][0]= 33\n",
      "arr[1][1]= 88\n",
      "arr[1][2]= 15\n",
      "arr[2][0]= 45\n",
      "arr[2][1]= 96\n",
      "arr[2][2]= 89\n",
      "arr[3][0]= 56\n",
      "arr[3][1]= 263\n",
      "arr[3][2]= 569\n",
      "4x3 Array:\n",
      "[15, 85, 66]\n",
      "[33, 88, 15]\n",
      "[45, 96, 89]\n",
      "[56, 263, 569]\n"
     ]
    }
   ],
   "source": [
    "#multi-D array\n",
    "r,c=int(input(\"Enter Array size:\\nrows= \")),int(input(\"cols= \"))\n",
    "arr=[[int(input('arr['+str(i)+']['+str(j)+']= ')) for j in range(c)] for i in range(r)]\n",
    "print(str(r)+'x'+str(c)+\" Array:\",*arr,sep='\\n')"
   ]
  },
  {
   "cell_type": "code",
   "execution_count": 108,
   "metadata": {},
   "outputs": [
    {
     "data": {
      "text/plain": [
       "numpy.ndarray"
      ]
     },
     "execution_count": 108,
     "metadata": {},
     "output_type": "execute_result"
    }
   ],
   "source": [
    "import numpy as np\n",
    "nparr=np.array(arr)\n",
    "type(nparr)\n"
   ]
  },
  {
   "cell_type": "code",
   "execution_count": 110,
   "metadata": {},
   "outputs": [
    {
     "name": "stdout",
     "output_type": "stream",
     "text": [
      "Enter row_index=2\n",
      "Enter col_index=1\n",
      "45\n"
     ]
    }
   ],
   "source": [
    "\n",
    "m,n=int(input(\"Enter row_index=\")),int(input(\"Enter col_index=\"))\n",
    "\n",
    "Lm,Ln=m,n-1\n",
    "if (Ln>=0): \n",
    "    L=nparr[Lm][Ln]\n",
    "    print(L)"
   ]
  },
  {
   "cell_type": "code",
   "execution_count": 111,
   "metadata": {},
   "outputs": [
    {
     "name": "stdout",
     "output_type": "stream",
     "text": [
      "88\n"
     ]
    }
   ],
   "source": [
    "Tm,Tn=m-1,n\n",
    "if Tm>=0:\n",
    "    T=nparr[Tm][Tn]\n",
    "    print(T)"
   ]
  },
  {
   "cell_type": "code",
   "execution_count": 112,
   "metadata": {},
   "outputs": [
    {
     "name": "stdout",
     "output_type": "stream",
     "text": [
      "89\n"
     ]
    }
   ],
   "source": [
    "Rm,Rn=m,n+1\n",
    "if(Rn<nparr.shape[1]):\n",
    "    R=nparr[Rm][Rn]\n",
    "    print(R)"
   ]
  },
  {
   "cell_type": "code",
   "execution_count": 113,
   "metadata": {},
   "outputs": [
    {
     "name": "stdout",
     "output_type": "stream",
     "text": [
      "263\n"
     ]
    }
   ],
   "source": [
    "Bm,Bn=m+1,n\n",
    "if Bm<nparr.shape[0]:\n",
    "    B=nparr[Bm][Bn]\n",
    "    print(B)    "
   ]
  },
  {
   "cell_type": "code",
   "execution_count": 74,
   "metadata": {},
   "outputs": [
    {
     "data": {
      "text/plain": [
       "(4, 2)"
      ]
     },
     "execution_count": 74,
     "metadata": {},
     "output_type": "execute_result"
    }
   ],
   "source": [
    "nparr.shape"
   ]
  }
 ],
 "metadata": {
  "kernelspec": {
   "display_name": "Python 3",
   "language": "python",
   "name": "python3"
  },
  "language_info": {
   "codemirror_mode": {
    "name": "ipython",
    "version": 3
   },
   "file_extension": ".py",
   "mimetype": "text/x-python",
   "name": "python",
   "nbconvert_exporter": "python",
   "pygments_lexer": "ipython3",
   "version": "3.8.5"
  }
 },
 "nbformat": 4,
 "nbformat_minor": 4
}
